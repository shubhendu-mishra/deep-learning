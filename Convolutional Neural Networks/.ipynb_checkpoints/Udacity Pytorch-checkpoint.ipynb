{
 "cells": [
  {
   "cell_type": "markdown",
   "metadata": {},
   "source": [
    "# **Convolutional Neural Networks **"
   ]
  },
  {
   "cell_type": "markdown",
   "metadata": {},
   "source": [
    "How computers see images? In Arrays, IN RGB or Grayscale values. "
   ]
  },
  {
   "cell_type": "markdown",
   "metadata": {},
   "source": [
    "**Normalization:** We scale the data between 0 and 1\n",
    "**Flattening**: 4x4 mattrix is flattened with each row next to each other\n",
    "\n",
    "Imagine the matrix as follows:\n",
    "\n",
    "        1 a 2 b\n",
    "        3 c 4 d\n",
    "        5 e 6 f\n",
    "        \n",
    "After flattening it will become:\n",
    "\n",
    "        1 a 2 b 3 c 4 d 5 e 6 f\n",
    "        "
   ]
  },
  {
   "cell_type": "markdown",
   "metadata": {},
   "source": [
    "White Pixel - 255, Black Pixel - 0 , Normalized between 0 to 1- as these networks have to see how important the pixel is\n",
    "\n",
    "If image  is 28x28 - The flattened image vector will have 784 entries in a single row. So the input to a Multilayer Perceptron will be the vector with 784 entries. \n",
    "\n",
    "The output will have classes suppose 10. Class scores will be given. Class scores mean how certain the network is, the more the score, the sure the network is. "
   ]
  },
  {
   "cell_type": "markdown",
   "metadata": {},
   "source": [
    "There can be any number of hidden layers. Very high can lead to overfitting.\n",
    "Loss function calculates difference between true class and predicted class.\n",
    "Backpropagation checks how bad the weights are in making this prediction\n",
    "\n"
   ]
  },
  {
   "cell_type": "markdown",
   "metadata": {},
   "source": [
    "**Softmax Function** is applied to convert scores intro probabilites.\n",
    "**Cross Entropy Loss** Categorical Class outputs so - Negative log is taken of the probability. \n",
    "Cross Entropy Loss is inversely propotional to probability, so \n",
    "\n",
    "                                C E Loss is Lower when true label and prediction agree\n",
    "                                C E Loss is Higher when true label and prediction disagree"
   ]
  },
  {
   "cell_type": "markdown",
   "metadata": {},
   "source": [
    "**Optimizer** tries to minimize the loss ?"
   ]
  }
 ],
 "metadata": {
  "kernelspec": {
   "display_name": "Python 3",
   "language": "python",
   "name": "python3"
  },
  "language_info": {
   "codemirror_mode": {
    "name": "ipython",
    "version": 3
   },
   "file_extension": ".py",
   "mimetype": "text/x-python",
   "name": "python",
   "nbconvert_exporter": "python",
   "pygments_lexer": "ipython3",
   "version": "3.6.5"
  }
 },
 "nbformat": 4,
 "nbformat_minor": 2
}
